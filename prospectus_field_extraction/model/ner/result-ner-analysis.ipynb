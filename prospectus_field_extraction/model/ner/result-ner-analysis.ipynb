{
 "cells": [
  {
   "cell_type": "markdown",
   "metadata": {},
   "source": [
    "# NER result analysis, field *fund_name*"
   ]
  },
  {
   "cell_type": "code",
   "execution_count": 10,
   "metadata": {},
   "outputs": [],
   "source": [
    "import pandas as pd\n",
    "from ast import literal_eval\n",
    "import seaborn as sns\n",
    "from sklearn.calibration import calibration_curve\n",
    "import matplotlib.pyplot as plt\n",
    "from Levenshtein._levenshtein import distance\n",
    "\n",
    "%config InlineBackend.figure_format = 'retina'\n",
    "%matplotlib inline"
   ]
  },
  {
   "cell_type": "code",
   "execution_count": 11,
   "metadata": {},
   "outputs": [
    {
     "name": "stderr",
     "output_type": "stream",
     "text": [
      "/Users/samos/.conda/envs/Sandbox/lib/python3.7/site-packages/ipykernel_launcher.py:1: ParserWarning: Falling back to the 'python' engine because the 'c' engine does not support regex separators (separators > 1 char and different from '\\s+' are interpreted as regex); you can avoid this warning by specifying engine='python'.\n",
      "  \"\"\"Entry point for launching an IPython kernel.\n"
     ]
    },
    {
     "data": {
      "text/html": [
       "<div>\n",
       "<style scoped>\n",
       "    .dataframe tbody tr th:only-of-type {\n",
       "        vertical-align: middle;\n",
       "    }\n",
       "\n",
       "    .dataframe tbody tr th {\n",
       "        vertical-align: top;\n",
       "    }\n",
       "\n",
       "    .dataframe thead th {\n",
       "        text-align: right;\n",
       "    }\n",
       "</style>\n",
       "<table border=\"1\" class=\"dataframe\">\n",
       "  <thead>\n",
       "    <tr style=\"text-align: right;\">\n",
       "      <th></th>\n",
       "      <th>found</th>\n",
       "      <th>gt</th>\n",
       "      <th>prediction</th>\n",
       "      <th>proba_dict</th>\n",
       "    </tr>\n",
       "  </thead>\n",
       "  <tbody>\n",
       "    <tr>\n",
       "      <td>0</td>\n",
       "      <td>True</td>\n",
       "      <td>cogefi europe</td>\n",
       "      <td>cogefi europe</td>\n",
       "      <td>{'cogefi europe': [1.0, 0.946, 0.054, 1.0, 1.0...</td>\n",
       "    </tr>\n",
       "    <tr>\n",
       "      <td>1</td>\n",
       "      <td>True</td>\n",
       "      <td>slgp valeurope</td>\n",
       "      <td>slgp valeurope</td>\n",
       "      <td>{'swiss life gestion privee': [1.0, 0.497, 1.0...</td>\n",
       "    </tr>\n",
       "    <tr>\n",
       "      <td>2</td>\n",
       "      <td>True</td>\n",
       "      <td>lazard patrimoine pea</td>\n",
       "      <td>lazard patrimoine pea</td>\n",
       "      <td>{'lazard patrimoine pea': [1.0, 1.0, 1.0, 1.0,...</td>\n",
       "    </tr>\n",
       "    <tr>\n",
       "      <td>3</td>\n",
       "      <td>True</td>\n",
       "      <td>slgp short bonds</td>\n",
       "      <td>slgp short bonds</td>\n",
       "      <td>{'swiss life gestion privee': [1.0, 0.497, 1.0...</td>\n",
       "    </tr>\n",
       "    <tr>\n",
       "      <td>4</td>\n",
       "      <td>True</td>\n",
       "      <td>allianz multi equilibre</td>\n",
       "      <td>allianz multi equilibre</td>\n",
       "      <td>{'allianz multi': [0.999, 0.001], 'equilibre':...</td>\n",
       "    </tr>\n",
       "  </tbody>\n",
       "</table>\n",
       "</div>"
      ],
      "text/plain": [
       "   found                       gt               prediction  \\\n",
       "0   True            cogefi europe            cogefi europe   \n",
       "1   True           slgp valeurope           slgp valeurope   \n",
       "2   True    lazard patrimoine pea    lazard patrimoine pea   \n",
       "3   True         slgp short bonds         slgp short bonds   \n",
       "4   True  allianz multi equilibre  allianz multi equilibre   \n",
       "\n",
       "                                          proba_dict  \n",
       "0  {'cogefi europe': [1.0, 0.946, 0.054, 1.0, 1.0...  \n",
       "1  {'swiss life gestion privee': [1.0, 0.497, 1.0...  \n",
       "2  {'lazard patrimoine pea': [1.0, 1.0, 1.0, 1.0,...  \n",
       "3  {'swiss life gestion privee': [1.0, 0.497, 1.0...  \n",
       "4  {'allianz multi': [0.999, 0.001], 'equilibre':...  "
      ]
     },
     "execution_count": 11,
     "metadata": {},
     "output_type": "execute_result"
    }
   ],
   "source": [
    "result = pd.read_csv('./result.csv', sep='///', index_col=False, error_bad_lines=False)\n",
    "result.proba_dict = result.proba_dict.apply(literal_eval)\n",
    "result.head()"
   ]
  },
  {
   "cell_type": "code",
   "execution_count": 12,
   "metadata": {},
   "outputs": [
    {
     "name": "stdout",
     "output_type": "stream",
     "text": [
      "Sample Accuracy: 82.44\n"
     ]
    }
   ],
   "source": [
    "print('Sample Accuracy:', round(result.found.mean()*100, 2))"
   ]
  },
  {
   "cell_type": "code",
   "execution_count": 13,
   "metadata": {},
   "outputs": [
    {
     "ename": "AttributeError",
     "evalue": "'DataFrame' object has no attribute 'to_markdown'",
     "output_type": "error",
     "traceback": [
      "\u001b[0;31m---------------------------------------------------------------------------\u001b[0m",
      "\u001b[0;31mAttributeError\u001b[0m                            Traceback (most recent call last)",
      "\u001b[0;32m<ipython-input-13-daec50084dcb>\u001b[0m in \u001b[0;36m<module>\u001b[0;34m\u001b[0m\n\u001b[0;32m----> 1\u001b[0;31m \u001b[0mprint\u001b[0m\u001b[0;34m(\u001b[0m\u001b[0mresult\u001b[0m\u001b[0;34m.\u001b[0m\u001b[0mhead\u001b[0m\u001b[0;34m(\u001b[0m\u001b[0;34m)\u001b[0m\u001b[0;34m[\u001b[0m\u001b[0;34m[\u001b[0m\u001b[0;34m'found'\u001b[0m\u001b[0;34m,\u001b[0m \u001b[0;34m'gt'\u001b[0m\u001b[0;34m,\u001b[0m \u001b[0;34m'prediction'\u001b[0m\u001b[0;34m]\u001b[0m\u001b[0;34m]\u001b[0m\u001b[0;34m.\u001b[0m\u001b[0mto_markdown\u001b[0m\u001b[0;34m(\u001b[0m\u001b[0;34m)\u001b[0m\u001b[0;34m)\u001b[0m\u001b[0;34m\u001b[0m\u001b[0;34m\u001b[0m\u001b[0m\n\u001b[0m",
      "\u001b[0;32m~/.conda/envs/Sandbox/lib/python3.7/site-packages/pandas/core/generic.py\u001b[0m in \u001b[0;36m__getattr__\u001b[0;34m(self, name)\u001b[0m\n\u001b[1;32m   5177\u001b[0m             \u001b[0;32mif\u001b[0m \u001b[0mself\u001b[0m\u001b[0;34m.\u001b[0m\u001b[0m_info_axis\u001b[0m\u001b[0;34m.\u001b[0m\u001b[0m_can_hold_identifiers_and_holds_name\u001b[0m\u001b[0;34m(\u001b[0m\u001b[0mname\u001b[0m\u001b[0;34m)\u001b[0m\u001b[0;34m:\u001b[0m\u001b[0;34m\u001b[0m\u001b[0;34m\u001b[0m\u001b[0m\n\u001b[1;32m   5178\u001b[0m                 \u001b[0;32mreturn\u001b[0m \u001b[0mself\u001b[0m\u001b[0;34m[\u001b[0m\u001b[0mname\u001b[0m\u001b[0;34m]\u001b[0m\u001b[0;34m\u001b[0m\u001b[0;34m\u001b[0m\u001b[0m\n\u001b[0;32m-> 5179\u001b[0;31m             \u001b[0;32mreturn\u001b[0m \u001b[0mobject\u001b[0m\u001b[0;34m.\u001b[0m\u001b[0m__getattribute__\u001b[0m\u001b[0;34m(\u001b[0m\u001b[0mself\u001b[0m\u001b[0;34m,\u001b[0m \u001b[0mname\u001b[0m\u001b[0;34m)\u001b[0m\u001b[0;34m\u001b[0m\u001b[0;34m\u001b[0m\u001b[0m\n\u001b[0m\u001b[1;32m   5180\u001b[0m \u001b[0;34m\u001b[0m\u001b[0m\n\u001b[1;32m   5181\u001b[0m     \u001b[0;32mdef\u001b[0m \u001b[0m__setattr__\u001b[0m\u001b[0;34m(\u001b[0m\u001b[0mself\u001b[0m\u001b[0;34m,\u001b[0m \u001b[0mname\u001b[0m\u001b[0;34m,\u001b[0m \u001b[0mvalue\u001b[0m\u001b[0;34m)\u001b[0m\u001b[0;34m:\u001b[0m\u001b[0;34m\u001b[0m\u001b[0;34m\u001b[0m\u001b[0m\n",
      "\u001b[0;31mAttributeError\u001b[0m: 'DataFrame' object has no attribute 'to_markdown'"
     ]
    }
   ],
   "source": [
    "print(result.head()[['found', 'gt', 'prediction']].to_markdown())"
   ]
  },
  {
   "cell_type": "code",
   "execution_count": 14,
   "metadata": {},
   "outputs": [
    {
     "name": "stdout",
     "output_type": "stream",
     "text": [
      "<table border=\"1\" class=\"dataframe\">\n",
      "  <thead>\n",
      "    <tr style=\"text-align: right;\">\n",
      "      <th></th>\n",
      "      <th>found</th>\n",
      "      <th>gt</th>\n",
      "      <th>prediction</th>\n",
      "    </tr>\n",
      "  </thead>\n",
      "  <tbody>\n",
      "    <tr>\n",
      "      <th>0</th>\n",
      "      <td>True</td>\n",
      "      <td>cogefi europe</td>\n",
      "      <td>cogefi europe</td>\n",
      "    </tr>\n",
      "    <tr>\n",
      "      <th>1</th>\n",
      "      <td>True</td>\n",
      "      <td>slgp valeurope</td>\n",
      "      <td>slgp valeurope</td>\n",
      "    </tr>\n",
      "    <tr>\n",
      "      <th>2</th>\n",
      "      <td>True</td>\n",
      "      <td>lazard patrimoine pea</td>\n",
      "      <td>lazard patrimoine pea</td>\n",
      "    </tr>\n",
      "    <tr>\n",
      "      <th>3</th>\n",
      "      <td>True</td>\n",
      "      <td>slgp short bonds</td>\n",
      "      <td>slgp short bonds</td>\n",
      "    </tr>\n",
      "    <tr>\n",
      "      <th>4</th>\n",
      "      <td>True</td>\n",
      "      <td>allianz multi equilibre</td>\n",
      "      <td>allianz multi equilibre</td>\n",
      "    </tr>\n",
      "  </tbody>\n",
      "</table>\n"
     ]
    }
   ],
   "source": [
    "print(result.head()[['found', 'gt', 'prediction']].to_html())"
   ]
  },
  {
   "cell_type": "markdown",
   "metadata": {},
   "source": [
    "|    | found   | ground truth            | prediction              |\n",
    "|---:|:--------|:------------------------|:------------------------|\n",
    "|  0 | True    | atomic ionization       | atomic ionization       |\n",
    "|  1 | False   | kinetics of germination | kinetics of germinations|\n",
    "|  2 | True    | infrared image synthesis| infrared image synthesis|\n",
    "|  3 | False   | quantum brakes          | quantum brakes of       |\n",
    "|  4 | False   | matter waves            | probability amplitudes  |"
   ]
  },
  {
   "cell_type": "markdown",
   "metadata": {},
   "source": [
    "### Let's have a look at the raw proba results.\n",
    "\n",
    "### It is for each prospectus a dictionnary with the list of probabilities associated to a key."
   ]
  },
  {
   "cell_type": "code",
   "execution_count": 15,
   "metadata": {},
   "outputs": [
    {
     "data": {
      "text/plain": [
       "{'oddo bhf investissement': [1.0,\n",
       "  1.0,\n",
       "  1.0,\n",
       "  1.0,\n",
       "  1.0,\n",
       "  1.0,\n",
       "  1.0,\n",
       "  1.0,\n",
       "  1.0,\n",
       "  1.0,\n",
       "  1.0,\n",
       "  1.0,\n",
       "  1.0,\n",
       "  1.0,\n",
       "  1.0,\n",
       "  1.0,\n",
       "  1.0,\n",
       "  1.0,\n",
       "  0.942,\n",
       "  0.058,\n",
       "  1.0,\n",
       "  1.0,\n",
       "  1.0,\n",
       "  1.0,\n",
       "  1.0,\n",
       "  1.0,\n",
       "  1.0,\n",
       "  1.0],\n",
       " 'actions internationales': [0.091, 0.091, 0.091],\n",
       " 'externes lorsque': [1.0, 1.0, 1.0],\n",
       " 'cedex 09 france': [1.0, 1.0, 1.0, 1.0, 1.0, 1.0],\n",
       " 'etait msci world': [1.0, 1.0, 1.0],\n",
       " 'oddo bhf sca': [0.897, 0.103, 0.897, 0.103, 0.897, 0.103, 1.0, 1.0],\n",
       " 'oddo bhf': [0.103, 0.103, 0.103, 0.003, 0.78, 0.78, 0.22, 1.0, 0.004],\n",
       " 'informations cles': [1.0, 1.0],\n",
       " 'gc eur': [0.0, 0.232],\n",
       " 'cn eur': [1.0, 1.0],\n",
       " 'etat m emb re': [1.0],\n",
       " '100 euros': [1.0],\n",
       " 'societe': [0.003],\n",
       " 'adresse': [0.0],\n",
       " 'oddo bhf asset': [0.001, 0.22, 1.0, 0.001],\n",
       " 'http://am.oddo bhf.com': [0.992, 0.007, 0.001, 0.942, 0.058],\n",
       " 'service clients': [0.992, 0.007, 0.001, 0.0],\n",
       " '44 51 80 28': [0.992, 0.942, 0.058],\n",
       " '51 80 28': [0.001],\n",
       " 'oddo bhf sca assure': [0.78, 0.22],\n",
       " 'european fund administration france': [1.0],\n",
       " 'regime fiscal': [1.0],\n",
       " 'codes isin': [1.0],\n",
       " 'aussi bien': [1.0],\n",
       " 'oddo bhf asset management': [1.0],\n",
       " 'notation court terme': [1.0],\n",
       " 'credit default swaps': [1.0],\n",
       " 'credit default': [0.0],\n",
       " 'monetaire court terme': [0.146],\n",
       " 'frequence distribution': [1.0],\n",
       " 'ulterieure': [1.0],\n",
       " 'valeur liquidative': [0.001],\n",
       " 'madeleine 75009': [1.0],\n",
       " 'taux bareme': [1.0, 1.0],\n",
       " 'indirects maximum': [1.0],\n",
       " 'actions etrangeres': [1.0],\n",
       " 'service client': [0.058],\n",
       " 'risque global': [1.0],\n",
       " 'numer air e': [1.0],\n",
       " 'article 4': [1.0],\n",
       " 'ute decision': [1.0],\n",
       " 'communs dont elle assurera': [1.0],\n",
       " 'article 12': [1.0]}"
      ]
     },
     "execution_count": 15,
     "metadata": {},
     "output_type": "execute_result"
    }
   ],
   "source": [
    "result.proba_dict[10]"
   ]
  },
  {
   "cell_type": "markdown",
   "metadata": {},
   "source": [
    "### Let's compute the normalized sum of those proba to get a confidence level of the predicted field."
   ]
  },
  {
   "cell_type": "code",
   "execution_count": 16,
   "metadata": {},
   "outputs": [
    {
     "data": {
      "image/png": "[encoded data removed]",
      "text/plain": [
       "<Figure size 792x576 with 1 Axes>"
      ]
     },
     "metadata": {
      "image/png": {
       "height": 494,
       "width": 659
      },
      "needs_background": "light"
     },
     "output_type": "display_data"
    }
   ],
   "source": [
    "result['sum_proba'] = result['proba_dict'].apply(lambda x: {k: sum(v) for k, v in x.items()})\n",
    "result['sum_proba'] = result['sum_proba'].apply(\n",
    "    lambda x: {k: v for k, v in sorted(x.items(), key=lambda item: item[1], reverse=True)}\n",
    ")\n",
    "result['sum_proba_normalized'] = result['sum_proba'].apply(\n",
    "    lambda x: {k: v / sum(x.values()) for k, v in x.items()}\n",
    ")\n",
    "result['model confidence'] = result['sum_proba_normalized'].apply(lambda x: list(x.values())[0])\n",
    "result['max_sum_proba'] = result['sum_proba_normalized'].apply(lambda x: list(x.values())[0])\n",
    "\n",
    "plt.figure(figsize=(11, 8))\n",
    "sns.distplot(result[result.found == True]['model confidence'], hist=False, label='right prediction', norm_hist=True)\n",
    "sns.distplot(result[result.found == False]['model confidence'], hist=False, label='wrong prediction', norm_hist=True)\n",
    "plt.xlim(0, 1)\n",
    "plt.title('Sum of proba vs well-predicted')\n",
    "plt.show()"
   ]
  },
  {
   "cell_type": "markdown",
   "metadata": {},
   "source": [
    "### When we plot the confidence distribution vs. the label (true is when prediction is good and false when it's not), we remark a strong correlation: for confidence > 0.4 there is a 99% chance that the predicted field is right."
   ]
  },
  {
   "cell_type": "code",
   "execution_count": 17,
   "metadata": {},
   "outputs": [
    {
     "name": "stdout",
     "output_type": "stream",
     "text": [
      "Accuracy for confidence > 0.4: 98.96\n"
     ]
    }
   ],
   "source": [
    "print('Accuracy for confidence > 0.4:', round(result[result.max_sum_proba > .4].found.mean()*100, 2))"
   ]
  },
  {
   "cell_type": "markdown",
   "metadata": {},
   "source": [
    "### On the sample below we see that the lowest confidence returns a wrong prediction."
   ]
  },
  {
   "cell_type": "code",
   "execution_count": 7,
   "metadata": {},
   "outputs": [
    {
     "data": {
      "text/html": [
       "<div>\n",
       "<style scoped>\n",
       "    .dataframe tbody tr th:only-of-type {\n",
       "        vertical-align: middle;\n",
       "    }\n",
       "\n",
       "    .dataframe tbody tr th {\n",
       "        vertical-align: top;\n",
       "    }\n",
       "\n",
       "    .dataframe thead th {\n",
       "        text-align: right;\n",
       "    }\n",
       "</style>\n",
       "<table border=\"1\" class=\"dataframe\">\n",
       "  <thead>\n",
       "    <tr style=\"text-align: right;\">\n",
       "      <th></th>\n",
       "      <th>found</th>\n",
       "      <th>gt</th>\n",
       "      <th>prediction</th>\n",
       "      <th>proba_dict</th>\n",
       "      <th>sum_proba</th>\n",
       "      <th>sum_proba_normalized</th>\n",
       "      <th>model confidence</th>\n",
       "      <th>max_sum_proba</th>\n",
       "    </tr>\n",
       "  </thead>\n",
       "  <tbody>\n",
       "    <tr>\n",
       "      <th>519</th>\n",
       "      <td>True</td>\n",
       "      <td>hsbc select equity</td>\n",
       "      <td>hsbc select equity</td>\n",
       "      <td>{'hsbc select equity': [1.0, 1.0, 1.0, 1.0, 1....</td>\n",
       "      <td>{'hsbc select equity': 36.0, 'hsbc global asse...</td>\n",
       "      <td>{'hsbc select equity': 0.3904428272398945, 'hs...</td>\n",
       "      <td>0.390443</td>\n",
       "      <td>0.390443</td>\n",
       "    </tr>\n",
       "    <tr>\n",
       "      <th>520</th>\n",
       "      <td>True</td>\n",
       "      <td>r co conviction credit 12m euro</td>\n",
       "      <td>r co conviction credit 12m euro</td>\n",
       "      <td>{'conviction credit 12m euro': [0.996, 0.004, ...</td>\n",
       "      <td>{'r co conviction credit 12m euro': 22.2980000...</td>\n",
       "      <td>{'r co conviction credit 12m euro': 0.24869229...</td>\n",
       "      <td>0.248692</td>\n",
       "      <td>0.248692</td>\n",
       "    </tr>\n",
       "    <tr>\n",
       "      <th>521</th>\n",
       "      <td>False</td>\n",
       "      <td>loxodonta</td>\n",
       "      <td>sg 29 haussmann</td>\n",
       "      <td>{'loxodonta\n",
       "': [1.0, 1.0, 1.0], 'sg 29 haussma...</td>\n",
       "      <td>{'sg 29 haussmann': 5.999, 'loxodonta\n",
       "': 3.0, ...</td>\n",
       "      <td>{'sg 29 haussmann': 0.2175915850562205, 'loxod...</td>\n",
       "      <td>0.217592</td>\n",
       "      <td>0.217592</td>\n",
       "    </tr>\n",
       "    <tr>\n",
       "      <th>522</th>\n",
       "      <td>True</td>\n",
       "      <td>oddo bhf partage</td>\n",
       "      <td>oddo bhf partage</td>\n",
       "      <td>{'oddo bhf partage': [1.0, 1.0, 1.0, 1.0, 1.0,...</td>\n",
       "      <td>{'oddo bhf partage': 30.0, 'oddo bhf sca': 6.3...</td>\n",
       "      <td>{'oddo bhf partage': 0.3709978605790039, 'oddo...</td>\n",
       "      <td>0.370998</td>\n",
       "      <td>0.370998</td>\n",
       "    </tr>\n",
       "    <tr>\n",
       "      <th>523</th>\n",
       "      <td>True</td>\n",
       "      <td>afer marches emergents</td>\n",
       "      <td>afer marches emergents</td>\n",
       "      <td>{'afer marches': [1.0], 'fevrier 2020': [1.0],...</td>\n",
       "      <td>{'afer marches emergents': 23.0, 'aviva invest...</td>\n",
       "      <td>{'afer marches emergents': 0.2936332648189049,...</td>\n",
       "      <td>0.293633</td>\n",
       "      <td>0.293633</td>\n",
       "    </tr>\n",
       "  </tbody>\n",
       "</table>\n",
       "</div>"
      ],
      "text/plain": [
       "     found                               gt                       prediction  \\\n",
       "519   True               hsbc select equity               hsbc select equity   \n",
       "520   True  r co conviction credit 12m euro  r co conviction credit 12m euro   \n",
       "521  False                        loxodonta                  sg 29 haussmann   \n",
       "522   True                 oddo bhf partage                 oddo bhf partage   \n",
       "523   True           afer marches emergents           afer marches emergents   \n",
       "\n",
       "                                            proba_dict  \\\n",
       "519  {'hsbc select equity': [1.0, 1.0, 1.0, 1.0, 1....   \n",
       "520  {'conviction credit 12m euro': [0.996, 0.004, ...   \n",
       "521  {'loxodonta\n",
       "': [1.0, 1.0, 1.0], 'sg 29 haussma...   \n",
       "522  {'oddo bhf partage': [1.0, 1.0, 1.0, 1.0, 1.0,...   \n",
       "523  {'afer marches': [1.0], 'fevrier 2020': [1.0],...   \n",
       "\n",
       "                                             sum_proba  \\\n",
       "519  {'hsbc select equity': 36.0, 'hsbc global asse...   \n",
       "520  {'r co conviction credit 12m euro': 22.2980000...   \n",
       "521  {'sg 29 haussmann': 5.999, 'loxodonta\n",
       "': 3.0, ...   \n",
       "522  {'oddo bhf partage': 30.0, 'oddo bhf sca': 6.3...   \n",
       "523  {'afer marches emergents': 23.0, 'aviva invest...   \n",
       "\n",
       "                                  sum_proba_normalized  model confidence  \\\n",
       "519  {'hsbc select equity': 0.3904428272398945, 'hs...          0.390443   \n",
       "520  {'r co conviction credit 12m euro': 0.24869229...          0.248692   \n",
       "521  {'sg 29 haussmann': 0.2175915850562205, 'loxod...          0.217592   \n",
       "522  {'oddo bhf partage': 0.3709978605790039, 'oddo...          0.370998   \n",
       "523  {'afer marches emergents': 0.2936332648189049,...          0.293633   \n",
       "\n",
       "     max_sum_proba  \n",
       "519       0.390443  \n",
       "520       0.248692  \n",
       "521       0.217592  \n",
       "522       0.370998  \n",
       "523       0.293633  "
      ]
     },
     "execution_count": 7,
     "metadata": {},
     "output_type": "execute_result"
    }
   ],
   "source": [
    "result.tail()"
   ]
  },
  {
   "cell_type": "markdown",
   "metadata": {},
   "source": [
    "### Let's focus on a wrong prediction:"
   ]
  },
  {
   "cell_type": "code",
   "execution_count": 8,
   "metadata": {},
   "outputs": [
    {
     "data": {
      "text/html": [
       "<div>\n",
       "<style scoped>\n",
       "    .dataframe tbody tr th:only-of-type {\n",
       "        vertical-align: middle;\n",
       "    }\n",
       "\n",
       "    .dataframe tbody tr th {\n",
       "        vertical-align: top;\n",
       "    }\n",
       "\n",
       "    .dataframe thead th {\n",
       "        text-align: right;\n",
       "    }\n",
       "</style>\n",
       "<table border=\"1\" class=\"dataframe\">\n",
       "  <thead>\n",
       "    <tr style=\"text-align: right;\">\n",
       "      <th></th>\n",
       "      <th>found</th>\n",
       "      <th>gt</th>\n",
       "      <th>prediction</th>\n",
       "    </tr>\n",
       "  </thead>\n",
       "  <tbody>\n",
       "    <tr>\n",
       "      <th>521</th>\n",
       "      <td>False</td>\n",
       "      <td>loxodonta</td>\n",
       "      <td>sg 29 haussmann</td>\n",
       "    </tr>\n",
       "  </tbody>\n",
       "</table>\n",
       "</div>"
      ],
      "text/plain": [
       "     found         gt       prediction\n",
       "521  False  loxodonta  sg 29 haussmann"
      ]
     },
     "execution_count": 8,
     "metadata": {},
     "output_type": "execute_result"
    }
   ],
   "source": [
    "result.loc[[521], ['found', 'gt', 'prediction']]"
   ]
  },
  {
   "cell_type": "code",
   "execution_count": 9,
   "metadata": {},
   "outputs": [
    {
     "data": {
      "text/plain": [
       "{'sg 29 haussmann': 0.2175915850562205,\n",
       " 'loxodonta\\n': 0.1088139281828074,\n",
       " 'loxodonta': 0.07363075807036634,\n",
       " 'taux bareme': 0.071563293434893,\n",
       " 'affectation devise': 0.03627130939426913,\n",
       " 'huit jours': 0.03627130939426913,\n",
       " 'listees': 0.03627130939426913,\n",
       " 'courtier principal': 0.03627130939426913,\n",
       " 'categorie high yield': 0.03627130939426913,\n",
       " 'instruments utilises': 0.03627130939426913,\n",
       " 'libellee en euro': 0.03627130939426913,\n",
       " 'sg 29 haussmann etablit': 0.03627130939426913,\n",
       " 'sg 29 haussmann applique': 0.03627130939426913,\n",
       " 'article 3': 0.03627130939426913,\n",
       " 'sans pouvoir exceder': 0.03627130939426913,\n",
       " 'article 4': 0.03627130939426913,\n",
       " 'article 12': 0.03627130939426913,\n",
       " 'ndeg gp06000029': 0.036271309394269126,\n",
       " 'sauf delai specifique': 0.009357997823721436,\n",
       " 'cedex 18': 0.006855277475516866,\n",
       " 'paris cedex 18': 0.0037359448676097203,\n",
       " 'sauf delai specifique convenu': 0.0005803409503083062,\n",
       " 'sg 29': 3.6271309394269135e-05,\n",
       " 'cedex': 3.6271309394269135e-05,\n",
       " 'paris cedex': 0.0,\n",
       " '18': 0.0}"
      ]
     },
     "execution_count": 9,
     "metadata": {},
     "output_type": "execute_result"
    }
   ],
   "source": [
    "result.loc[521, 'sum_proba_normalized']"
   ]
  },
  {
   "cell_type": "markdown",
   "metadata": {},
   "source": [
    "1. The probabilities are low (all < 0.22). As seen previously the model is not confident when there are errors.\n",
    "2. Second and third found field are the same with a '\\n' difference => data cleaning to be enhanced\n",
    "3. Second field is the good answer"
   ]
  },
  {
   "cell_type": "markdown",
   "metadata": {},
   "source": [
    "### Let's check how often the second field is the right answer when the first is wrong."
   ]
  },
  {
   "cell_type": "code",
   "execution_count": 10,
   "metadata": {},
   "outputs": [],
   "source": [
    "bad_result = result[result.found == False].copy()\n",
    "bad_result['second_choice_thresholded_proba'] = bad_result.sum_proba_normalized.apply(\n",
    "    lambda x: list(x.keys())[1])"
   ]
  },
  {
   "cell_type": "code",
   "execution_count": 11,
   "metadata": {},
   "outputs": [
    {
     "data": {
      "text/plain": [
       "0.5"
      ]
     },
     "execution_count": 11,
     "metadata": {},
     "output_type": "execute_result"
    }
   ],
   "source": [
    "def f(x):\n",
    "    pred, gt = x['second_choice_thresholded_proba'], x['gt']\n",
    "    return True if (distance(pred, gt) < 6 or gt in pred or pred in gt) and pred else False\n",
    "\n",
    "bad_result.apply(f, axis=1).mean()"
   ]
  },
  {
   "cell_type": "markdown",
   "metadata": {},
   "source": [
    "### The previous result shows that in 50% of the case when we're wrong, taking the second choice gives the right answer.\n",
    "\n",
    "### In a business point of view we could say that answer is found (with 99% confidence) when confidence is >0.4 and propose the two first choices of the model when confidence<0.4"
   ]
  },
  {
   "cell_type": "code",
   "execution_count": 12,
   "metadata": {},
   "outputs": [
    {
     "name": "stdout",
     "output_type": "stream",
     "text": [
      "Accuracy for confidence < 0.4: 72.89\n"
     ]
    }
   ],
   "source": [
    "print('Accuracy for confidence < 0.4:', round(result[result.max_sum_proba < .4].found.mean()*100, 2))"
   ]
  },
  {
   "cell_type": "code",
   "execution_count": 13,
   "metadata": {},
   "outputs": [
    {
     "name": "stdout",
     "output_type": "stream",
     "text": [
      "Accuracy for second choice when confidence < 0.4: 48.89\n"
     ]
    },
    {
     "name": "stderr",
     "output_type": "stream",
     "text": [
      "/Users/samos/.conda/envs/Sandbox/lib/python3.7/site-packages/ipykernel_launcher.py:1: UserWarning: Boolean Series key will be reindexed to match DataFrame index.\n",
      "  \"\"\"Entry point for launching an IPython kernel.\n"
     ]
    }
   ],
   "source": [
    "acc = bad_result[result.max_sum_proba < .4].apply(f, axis=1).mean()\n",
    "print('Accuracy for second choice when confidence < 0.4:', round(acc*100, 2))"
   ]
  },
  {
   "cell_type": "code",
   "execution_count": 17,
   "metadata": {},
   "outputs": [
    {
     "name": "stdout",
     "output_type": "stream",
     "text": [
      "the proportion of confident prediction is: 36.64\n"
     ]
    }
   ],
   "source": [
    "print('the proportion of confident prediction is:', round((result.max_sum_proba > 0.4).mean()*100, 2))"
   ]
  },
  {
   "cell_type": "markdown",
   "metadata": {},
   "source": [
    "### Overall accuracy with this technic:\n",
    "\n",
    "(accuracy_confident * proportion_confident) + (accuracy_no_confident + accuracy_second_choice_no_confident * proportion_no_confidence_with_error) * proportion_no_confident"
   ]
  },
  {
   "cell_type": "code",
   "execution_count": 19,
   "metadata": {},
   "outputs": [
    {
     "data": {
      "text/plain": [
       "0.907848"
      ]
     },
     "execution_count": 19,
     "metadata": {},
     "output_type": "execute_result"
    }
   ],
   "source": [
    "0.99*0.37 + (0.73 + 0.48*(1-0.73))*(1-0.37)"
   ]
  },
  {
   "cell_type": "markdown",
   "metadata": {},
   "source": [
    "### Let's have another look at the errors"
   ]
  },
  {
   "cell_type": "code",
   "execution_count": 20,
   "metadata": {},
   "outputs": [
    {
     "data": {
      "text/html": [
       "<div>\n",
       "<style scoped>\n",
       "    .dataframe tbody tr th:only-of-type {\n",
       "        vertical-align: middle;\n",
       "    }\n",
       "\n",
       "    .dataframe tbody tr th {\n",
       "        vertical-align: top;\n",
       "    }\n",
       "\n",
       "    .dataframe thead th {\n",
       "        text-align: right;\n",
       "    }\n",
       "</style>\n",
       "<table border=\"1\" class=\"dataframe\">\n",
       "  <thead>\n",
       "    <tr style=\"text-align: right;\">\n",
       "      <th></th>\n",
       "      <th>found</th>\n",
       "      <th>gt</th>\n",
       "      <th>prediction</th>\n",
       "      <th>proba_dict</th>\n",
       "    </tr>\n",
       "  </thead>\n",
       "  <tbody>\n",
       "    <tr>\n",
       "      <th>5</th>\n",
       "      <td>False</td>\n",
       "      <td>sanso opportunites</td>\n",
       "      <td>sanso investment solutions</td>\n",
       "      <td>{'sanso opportunites': [1.0, 1.0, 1.0, 1.0, 1....</td>\n",
       "    </tr>\n",
       "    <tr>\n",
       "      <th>12</th>\n",
       "      <td>False</td>\n",
       "      <td>echiquier value euro</td>\n",
       "      <td>action g</td>\n",
       "      <td>{'echiquier value euro': [1.0, 1.0, 1.0, 1.0, ...</td>\n",
       "    </tr>\n",
       "    <tr>\n",
       "      <th>16</th>\n",
       "      <td>False</td>\n",
       "      <td>unofi pacifique</td>\n",
       "      <td>19113 brive cedex</td>\n",
       "      <td>{'unofi pacifique': [1.0, 1.0, 0.868, 0.07, 0....</td>\n",
       "    </tr>\n",
       "    <tr>\n",
       "      <th>26</th>\n",
       "      <td>False</td>\n",
       "      <td>dnca evolutif</td>\n",
       "      <td>vendome 75001 paris</td>\n",
       "      <td>{'dnca evolutif': [1.0, 1.0, 1.0, 1.0, 1.0], '...</td>\n",
       "    </tr>\n",
       "    <tr>\n",
       "      <th>27</th>\n",
       "      <td>False</td>\n",
       "      <td>gemequity</td>\n",
       "      <td>gemway assets</td>\n",
       "      <td>{'gemway assets': [0.565, 0.435, 0.57, 0.43, 0...</td>\n",
       "    </tr>\n",
       "    <tr>\n",
       "      <th>...</th>\n",
       "      <td>...</td>\n",
       "      <td>...</td>\n",
       "      <td>...</td>\n",
       "      <td>...</td>\n",
       "    </tr>\n",
       "    <tr>\n",
       "      <th>491</th>\n",
       "      <td>False</td>\n",
       "      <td>eurose</td>\n",
       "      <td>vendome 75001 paris</td>\n",
       "      <td>{'verso': [1.0, 1.0, 1.0], 'fevrier 2020': [1....</td>\n",
       "    </tr>\n",
       "    <tr>\n",
       "      <th>501</th>\n",
       "      <td>False</td>\n",
       "      <td>gfc gestion de fortune</td>\n",
       "      <td>generali investments europe</td>\n",
       "      <td>{'bnmshdms untr rnms entqmhdr bnmenqleldms': [...</td>\n",
       "    </tr>\n",
       "    <tr>\n",
       "      <th>504</th>\n",
       "      <td>False</td>\n",
       "      <td>lazard patrimoine opportunities</td>\n",
       "      <td>lazard multi assets</td>\n",
       "      <td>{'lazard patrimoine': [1.0, 1.0, 1.0, 1.0, 1.0...</td>\n",
       "    </tr>\n",
       "    <tr>\n",
       "      <th>511</th>\n",
       "      <td>False</td>\n",
       "      <td>antenor</td>\n",
       "      <td>faubourg saint honore</td>\n",
       "      <td>{'affichee demeure inchangee': [0.955, 0.955],...</td>\n",
       "    </tr>\n",
       "    <tr>\n",
       "      <th>521</th>\n",
       "      <td>False</td>\n",
       "      <td>loxodonta</td>\n",
       "      <td>sg 29 haussmann</td>\n",
       "      <td>{'loxodonta\n",
       "': [1.0, 1.0, 1.0], 'sg 29 haussma...</td>\n",
       "    </tr>\n",
       "  </tbody>\n",
       "</table>\n",
       "<p>92 rows × 4 columns</p>\n",
       "</div>"
      ],
      "text/plain": [
       "     found                               gt                   prediction  \\\n",
       "5    False               sanso opportunites   sanso investment solutions   \n",
       "12   False             echiquier value euro                     action g   \n",
       "16   False                  unofi pacifique            19113 brive cedex   \n",
       "26   False                    dnca evolutif          vendome 75001 paris   \n",
       "27   False                        gemequity                gemway assets   \n",
       "..     ...                              ...                          ...   \n",
       "491  False                           eurose          vendome 75001 paris   \n",
       "501  False           gfc gestion de fortune  generali investments europe   \n",
       "504  False  lazard patrimoine opportunities          lazard multi assets   \n",
       "511  False                          antenor        faubourg saint honore   \n",
       "521  False                        loxodonta              sg 29 haussmann   \n",
       "\n",
       "                                            proba_dict  \n",
       "5    {'sanso opportunites': [1.0, 1.0, 1.0, 1.0, 1....  \n",
       "12   {'echiquier value euro': [1.0, 1.0, 1.0, 1.0, ...  \n",
       "16   {'unofi pacifique': [1.0, 1.0, 0.868, 0.07, 0....  \n",
       "26   {'dnca evolutif': [1.0, 1.0, 1.0, 1.0, 1.0], '...  \n",
       "27   {'gemway assets': [0.565, 0.435, 0.57, 0.43, 0...  \n",
       "..                                                 ...  \n",
       "491  {'verso': [1.0, 1.0, 1.0], 'fevrier 2020': [1....  \n",
       "501  {'bnmshdms untr rnms entqmhdr bnmenqleldms': [...  \n",
       "504  {'lazard patrimoine': [1.0, 1.0, 1.0, 1.0, 1.0...  \n",
       "511  {'affichee demeure inchangee': [0.955, 0.955],...  \n",
       "521  {'loxodonta\n",
       "': [1.0, 1.0, 1.0], 'sg 29 haussma...  \n",
       "\n",
       "[92 rows x 4 columns]"
      ]
     },
     "execution_count": 20,
     "metadata": {},
     "output_type": "execute_result"
    }
   ],
   "source": [
    "result.loc[result.found == False, ['found', 'gt', 'prediction', 'proba_dict']]"
   ]
  },
  {
   "cell_type": "markdown",
   "metadata": {},
   "source": [
    "### It seems that the first prediction from the pdf is often right (the title aka. *fund_name* is often at the beginning of the doc. Hence it is maybe a better choice than second proba)."
   ]
  },
  {
   "cell_type": "code",
   "execution_count": 21,
   "metadata": {},
   "outputs": [],
   "source": [
    "threshold_proba = 0.35\n",
    "\n",
    "def f(x):\n",
    "    proba_dict, sum_proba = x['proba_dict'], x['sum_proba_normalized']\n",
    "    return list(sum_proba.keys())[0] if list(sum_proba.values())[0] > threshold_proba else list(proba_dict.keys())[0]\n",
    "\n",
    "result['first_pred_thresholded_proba'] = result.apply(f, axis=1)"
   ]
  },
  {
   "cell_type": "code",
   "execution_count": 22,
   "metadata": {},
   "outputs": [
    {
     "data": {
      "text/plain": [
       "0.8702290076335878"
      ]
     },
     "execution_count": 22,
     "metadata": {},
     "output_type": "execute_result"
    }
   ],
   "source": [
    "def f(x):\n",
    "    pred, gt = x['first_pred_thresholded_proba'], x['gt']\n",
    "    return True if (distance(pred, gt) < 6 or gt in pred or pred in gt) and pred else False\n",
    "\n",
    "result.apply(f, axis=1).mean()"
   ]
  },
  {
   "cell_type": "markdown",
   "metadata": {},
   "source": [
    "### We get a 87% accuracy with only one proposed prediction here"
   ]
  },
  {
   "cell_type": "markdown",
   "metadata": {},
   "source": [
    "### Let's compute the score with a two prediction of two propositions."
   ]
  },
  {
   "cell_type": "code",
   "execution_count": 30,
   "metadata": {},
   "outputs": [
    {
     "name": "stdout",
     "output_type": "stream",
     "text": [
      "Accuracy for confidence < 0.35: 69.2\n"
     ]
    }
   ],
   "source": [
    "print('Accuracy for confidence < 0.35:', round(result[result.max_sum_proba < .35].found.mean()*100, 2))"
   ]
  },
  {
   "cell_type": "code",
   "execution_count": 35,
   "metadata": {},
   "outputs": [
    {
     "name": "stdout",
     "output_type": "stream",
     "text": [
      "Accuracy for confidence > 0.35: 97.18\n"
     ]
    }
   ],
   "source": [
    "print('Accuracy for confidence > 0.35:', round(result[result.max_sum_proba > .35].found.mean()*100, 2))"
   ]
  },
  {
   "cell_type": "code",
   "execution_count": 31,
   "metadata": {},
   "outputs": [
    {
     "name": "stdout",
     "output_type": "stream",
     "text": [
      "Accuracy for second choice when confidence < 0.4: 49.41\n"
     ]
    },
    {
     "name": "stderr",
     "output_type": "stream",
     "text": [
      "/Users/samos/.conda/envs/Sandbox/lib/python3.7/site-packages/ipykernel_launcher.py:2: UserWarning: Boolean Series key will be reindexed to match DataFrame index.\n",
      "  \n"
     ]
    }
   ],
   "source": [
    "bad_result = result[result.found == False].copy()\n",
    "acc = bad_result[result.max_sum_proba < .35].apply(f, axis=1).mean()\n",
    "print('Accuracy for second choice when confidence < 0.4:', round(acc*100, 2))"
   ]
  },
  {
   "cell_type": "code",
   "execution_count": 33,
   "metadata": {},
   "outputs": [
    {
     "name": "stdout",
     "output_type": "stream",
     "text": [
      "the proportion of confident prediction is: 47.33\n"
     ]
    }
   ],
   "source": [
    "print('the proportion of confident prediction is:', round((result.max_sum_proba > 0.35).mean()*100, 2))"
   ]
  },
  {
   "cell_type": "markdown",
   "metadata": {},
   "source": [
    "### Overall accuracy with this technic:"
   ]
  },
  {
   "cell_type": "code",
   "execution_count": 37,
   "metadata": {},
   "outputs": [
    {
     "data": {
      "text/plain": [
       "0.902107"
      ]
     },
     "execution_count": 37,
     "metadata": {},
     "output_type": "execute_result"
    }
   ],
   "source": [
    "0.97*0.47 + (0.69 + 0.49*(1-0.69))*(1-0.47)"
   ]
  },
  {
   "cell_type": "code",
   "execution_count": 45,
   "metadata": {},
   "outputs": [
    {
     "data": {
      "text/html": [
       "<div>\n",
       "<style scoped>\n",
       "    .dataframe tbody tr th:only-of-type {\n",
       "        vertical-align: middle;\n",
       "    }\n",
       "\n",
       "    .dataframe tbody tr th {\n",
       "        vertical-align: top;\n",
       "    }\n",
       "\n",
       "    .dataframe thead th {\n",
       "        text-align: right;\n",
       "    }\n",
       "</style>\n",
       "<table border=\"1\" class=\"dataframe\">\n",
       "  <thead>\n",
       "    <tr style=\"text-align: right;\">\n",
       "      <th></th>\n",
       "      <th>found</th>\n",
       "      <th>gt</th>\n",
       "      <th>prediction</th>\n",
       "      <th>proba_dict</th>\n",
       "      <th>sum_proba</th>\n",
       "      <th>sum_proba_normalized</th>\n",
       "      <th>model confidence</th>\n",
       "      <th>max_sum_proba</th>\n",
       "      <th>first_pred_thresholded_proba</th>\n",
       "    </tr>\n",
       "  </thead>\n",
       "  <tbody>\n",
       "    <tr>\n",
       "      <th>511</th>\n",
       "      <td>False</td>\n",
       "      <td>antenor</td>\n",
       "      <td>faubourg saint honore</td>\n",
       "      <td>{'affichee demeure inchangee': [0.955, 0.955],...</td>\n",
       "      <td>{'faubourg saint honore': 6.0, 'antenor\n",
       "': 2.0...</td>\n",
       "      <td>{'faubourg saint honore': 0.19814405072487698,...</td>\n",
       "      <td>0.198144</td>\n",
       "      <td>0.198144</td>\n",
       "      <td>affichee demeure inchangee</td>\n",
       "    </tr>\n",
       "  </tbody>\n",
       "</table>\n",
       "</div>"
      ],
      "text/plain": [
       "     found       gt             prediction  \\\n",
       "511  False  antenor  faubourg saint honore   \n",
       "\n",
       "                                            proba_dict  \\\n",
       "511  {'affichee demeure inchangee': [0.955, 0.955],...   \n",
       "\n",
       "                                             sum_proba  \\\n",
       "511  {'faubourg saint honore': 6.0, 'antenor\n",
       "': 2.0...   \n",
       "\n",
       "                                  sum_proba_normalized  model confidence  \\\n",
       "511  {'faubourg saint honore': 0.19814405072487698,...          0.198144   \n",
       "\n",
       "     max_sum_proba first_pred_thresholded_proba  \n",
       "511       0.198144   affichee demeure inchangee  "
      ]
     },
     "execution_count": 45,
     "metadata": {},
     "output_type": "execute_result"
    }
   ],
   "source": [
    "bad_result.loc[[511]]"
   ]
  },
  {
   "cell_type": "code",
   "execution_count": 46,
   "metadata": {},
   "outputs": [
    {
     "data": {
      "text/plain": [
       "{'faubourg saint honore': 0.19814405072487698,\n",
       " 'antenor\\n': 0.06604801690829233,\n",
       " 'us person': 0.06604801690829232,\n",
       " 'service commercial': 0.06601499289983818,\n",
       " 'affichee demeure inchangee': 0.06307585614741917,\n",
       " 'antenor\\n forme juridique': 0.033024008454146166,\n",
       " '100 euros': 0.033024008454146166,\n",
       " '1000 euros': 0.033024008454146166,\n",
       " 'montant minimal': 0.033024008454146166,\n",
       " '100 000 euros': 0.033024008454146166,\n",
       " 'solutions depositaires': 0.033024008454146166,\n",
       " 'eurostoxx 50': 0.033024008454146166,\n",
       " 'report total': 0.033024008454146166,\n",
       " 'indirects maximum': 0.033024008454146166,\n",
       " 'actions warrants obligations convertibles': 0.033024008454146166,\n",
       " 'eurex 1,00 EURttc': 0.033024008454146166,\n",
       " 'article 3': 0.033024008454146166,\n",
       " 'article 4': 0.033024008454146166,\n",
       " 'article 12': 0.033024008454146166,\n",
       " 'souscripteurs sauf': 0.03299098444569202,\n",
       " 'futures us 2$ttc': 0.03299098444569202,\n",
       " 'euroclear france': 0.007199233843003864,\n",
       " 'affichee demeure': 0.0029721607608731546,\n",
       " 'chaque transaction': 0.0021465605495195007,\n",
       " 'futures us': 3.3024008454146164e-05}"
      ]
     },
     "execution_count": 46,
     "metadata": {},
     "output_type": "execute_result"
    }
   ],
   "source": [
    "bad_result.loc[511].sum_proba_normalized"
   ]
  },
  {
   "cell_type": "markdown",
   "metadata": {},
   "source": [
    "- Retrain avec weights on missed\n",
    "- Stack a second model that learn if we must take best, second_best or first prediction"
   ]
  },
  {
   "cell_type": "markdown",
   "metadata": {},
   "source": [
    "# Other topic: proba calibration"
   ]
  },
  {
   "cell_type": "code",
   "execution_count": 331,
   "metadata": {},
   "outputs": [
    {
     "data": {
      "image/png": "[encoded data removed]",
      "text/plain": [
       "<Figure size 936x576 with 1 Axes>"
      ]
     },
     "metadata": {
      "needs_background": "light"
     },
     "output_type": "display_data"
    }
   ],
   "source": [
    "plt.figure(figsize=(13, 8))\n",
    "fraction_of_positives, mean_predicted_value = calibration_curve(result.found, result.max_sum_proba)\n",
    "plt.xlim((0, 1))\n",
    "plt.ylim((0, 1))\n",
    "plt.plot(mean_predicted_value, fraction_of_positives)\n",
    "plt.title('Uncalibrated proba (under-confident)')\n",
    "plt.show()"
   ]
  }
 ],
 "metadata": {
  "kernelspec": {
   "display_name": "Python 3",
   "language": "python",
   "name": "python3"
  },
  "language_info": {
   "codemirror_mode": {
    "name": "ipython",
    "version": 3
   },
   "file_extension": ".py",
   "mimetype": "text/x-python",
   "name": "python",
   "nbconvert_exporter": "python",
   "pygments_lexer": "ipython3",
   "version": "3.8.3"
  }
 },
 "nbformat": 4,
 "nbformat_minor": 4
}
